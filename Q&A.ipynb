{
 "cells": [
  {
   "cell_type": "code",
   "execution_count": 4,
   "id": "d5ff92d6",
   "metadata": {},
   "outputs": [
    {
     "data": {
      "text/plain": [
       "'\\n1.Python is a high level programming language.\\n2.\\n'"
      ]
     },
     "execution_count": 4,
     "metadata": {},
     "output_type": "execute_result"
    }
   ],
   "source": [
    "#1 What is python, what are the benefits of using python ?\n",
    "'''\n",
    "1.Python is a high level programming language.\n",
    "2.\n",
    "'''"
   ]
  },
  {
   "cell_type": "code",
   "execution_count": 5,
   "id": "6cbc64d6",
   "metadata": {},
   "outputs": [
    {
     "data": {
      "text/plain": [
       "'\\nThere are different types of data types in Python. Some built-in Python data types are:\\n\\nNumeric data types: int, float, complex\\nString data types: str\\nSequence types: list, tuple, range\\nBinary types: bytes, bytearray, memoryview\\nMapping data type: dict\\nBoolean type: bool\\nSet data types: set, frozenset\\n    '"
      ]
     },
     "execution_count": 5,
     "metadata": {},
     "output_type": "execute_result"
    }
   ],
   "source": [
    "#2.Datatype in Python ?\n",
    "'''\n",
    "There are different types of data types in Python. Some built-in Python data types are:\n",
    "\n",
    "Numeric data types: int, float, complex\n",
    "String data types: str\n",
    "Sequence types: list, tuple, range\n",
    "Binary types: bytes, bytearray, memoryview\n",
    "Mapping data type: dict\n",
    "Boolean type: bool\n",
    "Set data types: set, frozenset\n",
    "    '''"
   ]
  },
  {
   "cell_type": "code",
   "execution_count": 6,
   "id": "4fab0ee4",
   "metadata": {},
   "outputs": [
    {
     "data": {
      "text/plain": [
       "\"\\nlist: List is a collection of elements. It is mutuable. \\n      The index of list starts from 0. It is indicated by [].\\nTuple:Tuple is a collection of elements. It is immutable.\\n      The index of tuple starts from 0. It is indicated by().\\nDict: Dictionary is a collection of KEYS and VALUES. It is mutable.\\n      By using key we can find the particular key's value or we can do the some by using values.\\n      It is indicated by {}.\\n\""
      ]
     },
     "execution_count": 6,
     "metadata": {},
     "output_type": "execute_result"
    }
   ],
   "source": [
    "#3.Difference's Between (List / Tuple / Dict ) & there Properties ?\n",
    "'''\n",
    "list: List is a collection of elements. It is mutuable. \n",
    "      The index of list starts from 0. It is indicated by [].\n",
    "Tuple:Tuple is a collection of elements. It is immutable.\n",
    "      The index of tuple starts from 0. It is indicated by().\n",
    "Dict: Dictionary is a collection of KEYS and VALUES. It is mutable.\n",
    "      By using key we can find the particular key's value or we can do the some by using values.\n",
    "      It is indicated by {}.\n",
    "'''"
   ]
  },
  {
   "cell_type": "code",
   "execution_count": 7,
   "id": "33fa9f95",
   "metadata": {},
   "outputs": [
    {
     "data": {
      "text/plain": [
       "'\\nSlicing will helps in slicing the particular values in the string or in a list,tupple,sets.\\nSlicing is indicated by: var[a:b:c]\\nhere var is variable\\n     a indicates the starting value.\\n     b indicates the ending value.\\n     c indicates for the number of values to skip.\\n'"
      ]
     },
     "execution_count": 7,
     "metadata": {},
     "output_type": "execute_result"
    }
   ],
   "source": [
    "#4.In Python what is slicing ?\n",
    "'''\n",
    "Slicing will helps in slicing the particular values in the string or in a list,tupple,sets.\n",
    "Slicing is indicated by: var[a:b:c]\n",
    "here var is variable\n",
    "     a indicates the starting value.\n",
    "     b indicates the ending value.\n",
    "     c indicates for the number of values to skip.\n",
    "'''"
   ]
  },
  {
   "cell_type": "code",
   "execution_count": 8,
   "id": "03b36f66",
   "metadata": {},
   "outputs": [
    {
     "name": "stdout",
     "output_type": "stream",
     "text": [
      "Takes in a number n, returns the square of n\n"
     ]
    }
   ],
   "source": [
    "#5.What is Doc String in Python ?\n",
    "'''\n",
    "Python docstrings are the string literals that appear right after the definition of a function, method, class, or module\n",
    "'''\n",
    "def square(n):\n",
    "    '''Takes in a number n, returns the square of n'''\n",
    "    return n**2\n",
    "\n",
    "print(square.__doc__)"
   ]
  },
  {
   "cell_type": "code",
   "execution_count": 9,
   "id": "7a5504ba",
   "metadata": {},
   "outputs": [
    {
     "data": {
      "text/plain": [
       "\"\\n'=' operator only creates a new variable that shares the reference\\nof the original object, it doesn't creates a new object.\\n\\nIn Python, there are two ways to create copies:\\n\\n1.Shallow Copy\\n2.Deep Copy\\n\\nShallow Copy:\\nA shallow copy creates a new compound object and then references\\nthe objects contained in the original within it, which means it \\nconstructs a new collection object and then populates it with references\\nto the child objects found in the original. The copying process does \\nnot recurse and therefore won’t create copies of the child objects \\nthemselves. In the case of shallow copy, a reference of an object is \\ncopied into another object. It means that any changes made to a copy of \\nan object do reflect in the original object.\\n\\nThe original elements before shallow copying : 1 2 [3, 5] 4 \\nThe original elements after shallow copying  : 1 2 [7, 5] 4 \\n\\nDeep Copy\\nA deep copy creates a new compound object before inserting copies of the\\nitems found in the original into it in a recursive manner. It means first\\nconstructing a new collection object and then recursively populating it \\nwith copies of the child objects found in the original. In the case of deep\\ncopy, a copy of the object is copied into another object. It means that any\\nchanges made to a copy of the object do not reflect in the original object.\\n\\nThe original elements before deep copying   :  1 2 [3, 5] 4 \\nThe new list of elements after deep copying : 1 2 [7, 5] 4 \\nThe original elements after deep copying    : 1 2 [3, 5] 4\\n\""
      ]
     },
     "execution_count": 9,
     "metadata": {},
     "output_type": "execute_result"
    }
   ],
   "source": [
    "#6.How can you copy Object in Python With example ?\n",
    "'''\n",
    "'=' operator only creates a new variable that shares the reference\n",
    "of the original object, it doesn't creates a new object.\n",
    "\n",
    "In Python, there are two ways to create copies:\n",
    "\n",
    "1.Shallow Copy\n",
    "2.Deep Copy\n",
    "\n",
    "Shallow Copy:\n",
    "A shallow copy creates a new compound object and then references\n",
    "the objects contained in the original within it, which means it \n",
    "constructs a new collection object and then populates it with references\n",
    "to the child objects found in the original. The copying process does \n",
    "not recurse and therefore won’t create copies of the child objects \n",
    "themselves. In the case of shallow copy, a reference of an object is \n",
    "copied into another object. It means that any changes made to a copy of \n",
    "an object do reflect in the original object.\n",
    "\n",
    "The original elements before shallow copying : 1 2 [3, 5] 4 \n",
    "The original elements after shallow copying  : 1 2 [7, 5] 4 \n",
    "\n",
    "Deep Copy\n",
    "A deep copy creates a new compound object before inserting copies of the\n",
    "items found in the original into it in a recursive manner. It means first\n",
    "constructing a new collection object and then recursively populating it \n",
    "with copies of the child objects found in the original. In the case of deep\n",
    "copy, a copy of the object is copied into another object. It means that any\n",
    "changes made to a copy of the object do not reflect in the original object.\n",
    "\n",
    "The original elements before deep copying   :  1 2 [3, 5] 4 \n",
    "The new list of elements after deep copying : 1 2 [7, 5] 4 \n",
    "The original elements after deep copying    : 1 2 [3, 5] 4\n",
    "'''"
   ]
  },
  {
   "cell_type": "code",
   "execution_count": 10,
   "id": "f97cd0a3",
   "metadata": {},
   "outputs": [
    {
     "data": {
      "text/plain": [
       "'hany'"
      ]
     },
     "execution_count": 10,
     "metadata": {},
     "output_type": "execute_result"
    }
   ],
   "source": [
    "#7.What is negative indexing in python With Example ?\n",
    "'''\n",
    "Negative indexing will takes the value from backward.\n",
    "'''\n",
    "a='Chaithanya'\n",
    "a[-5:-1]"
   ]
  },
  {
   "cell_type": "code",
   "execution_count": 11,
   "id": "77940ee8",
   "metadata": {},
   "outputs": [
    {
     "name": "stdout",
     "output_type": "stream",
     "text": [
      "9\n",
      "<class 'str'>\n"
     ]
    }
   ],
   "source": [
    "#8.How can you convert a number to String ? Example ?\n",
    "'''\n",
    "To convert an integer to a string, use the str() built-in function.\n",
    "'''\n",
    "a = str(9)\n",
    "print(a)\n",
    "print(type(a))"
   ]
  },
  {
   "cell_type": "code",
   "execution_count": 12,
   "id": "c46fea64",
   "metadata": {},
   "outputs": [
    {
     "data": {
      "text/plain": [
       "'\\nPython is a case−sensitive programming language.\\nThis means that it considers uppercase and lowercase\\nletters differently.\\n'"
      ]
     },
     "execution_count": 12,
     "metadata": {},
     "output_type": "execute_result"
    }
   ],
   "source": [
    "#9.Is python case sensitive?\n",
    "'''\n",
    "Python is a case−sensitive programming language.\n",
    "This means that it considers uppercase and lowercase\n",
    "letters differently.\n",
    "'''"
   ]
  },
  {
   "cell_type": "code",
   "execution_count": 13,
   "id": "f39808a3",
   "metadata": {},
   "outputs": [
    {
     "data": {
      "text/plain": [
       "'\\nA function is a block of code that performs a specific task.\\n\\nTypes of function\\nThere are two types of function in Python programming:\\n\\nStandard library functions - These are built-in functions in Python that are available to use.\\nUser-defined functions - We can create our own functions based on our requirements.\\nThe syntax to declare a function is:\\n\\ndef function_name(arguments):\\n    # function body \\n    return\\nA function only runs when it is called.\\n\\nfunction_name(arguments)\\n\\n'"
      ]
     },
     "execution_count": 13,
     "metadata": {},
     "output_type": "execute_result"
    }
   ],
   "source": [
    "#10.What are functions in Python? Example Syntax ?\n",
    "'''\n",
    "A function is a block of code that performs a specific task.\n",
    "\n",
    "Types of function\n",
    "There are two types of function in Python programming:\n",
    "\n",
    "Standard library functions - These are built-in functions in Python that are available to use.\n",
    "User-defined functions - We can create our own functions based on our requirements.\n",
    "The syntax to declare a function is:\n",
    "\n",
    "def function_name(arguments):\n",
    "    # function body \n",
    "    return\n",
    "A function only runs when it is called.\n",
    "\n",
    "function_name(arguments)\n",
    "\n",
    "'''"
   ]
  },
  {
   "cell_type": "code",
   "execution_count": 16,
   "id": "43943067",
   "metadata": {},
   "outputs": [
    {
     "name": "stdout",
     "output_type": "stream",
     "text": [
      "Select the number of values in list: 6\n",
      "Give 6 colors\n",
      "red\n",
      "blue\n",
      "red\n",
      "green\n",
      "yellow\n",
      "pink\n",
      "['red', 'red']\n",
      "The default values are : {'red'}\n"
     ]
    }
   ],
   "source": [
    "#11.Write a program to find distinct colours from below array.\n",
    "a=int(input(\"Select the number of values in list: \"))\n",
    "b=[]\n",
    "print('Give {} colors'.format(a))\n",
    "for i in range (0,a):\n",
    "    c=input('')\n",
    "    b.append(c)\n",
    "e=[]\n",
    "for i in b:\n",
    "    d=b.count(i)\n",
    "    if d==2:\n",
    "        e.append(i) \n",
    "print('The default values are :',set(e))"
   ]
  },
  {
   "cell_type": "code",
   "execution_count": 17,
   "id": "02809bdd",
   "metadata": {},
   "outputs": [
    {
     "name": "stdout",
     "output_type": "stream",
     "text": [
      "Select the number of values in list: 6\n",
      "Give 6 numbers\n",
      "12\n",
      "51\n",
      "23\n",
      "78\n",
      "92\n",
      "65\n",
      "['12', '51', '23', '78', '92', '65']\n",
      "maximum value is:  92\n"
     ]
    }
   ],
   "source": [
    "#12.Write a program to find the largest number from below array.\n",
    "num=int(input(\"Select the number of values in list: \"))\n",
    "lis=[]\n",
    "print('Give {} numbers'.format(num))\n",
    "for i in range (0,num):\n",
    "    val=input('')\n",
    "    lis.append(val)\n",
    "print(lis)\n",
    "print('maximum value is: ',max(lis))"
   ]
  },
  {
   "cell_type": "code",
   "execution_count": 7,
   "id": "4bc4edf2",
   "metadata": {},
   "outputs": [
    {
     "name": "stdout",
     "output_type": "stream",
     "text": [
      "eCHAITHANYA\n",
      "5\n"
     ]
    }
   ],
   "source": [
    "#13. Write a program to find total no of vowels from below string\n",
    "a=input()\n",
    "b=a.count('a')\n",
    "c=a.count('e')\n",
    "d=a.count('i')\n",
    "e=a.count('o')\n",
    "f=a.count('u')\n",
    "g=a.count('A')\n",
    "h=a.count('E')\n",
    "i=a.count('I')\n",
    "j=a.count('O')\n",
    "k=a.count('U')\n",
    "print(b+c+d+e+f+g+h+i+j+k)"
   ]
  },
  {
   "cell_type": "code",
   "execution_count": 12,
   "id": "c16833f7",
   "metadata": {},
   "outputs": [
    {
     "name": "stdout",
     "output_type": "stream",
     "text": [
      "smash\n",
      "flash\n",
      "{'a', 's', 'h'}\n"
     ]
    }
   ],
   "source": [
    "#14. Write a program to find common characters from below strings.\n",
    "a=input()\n",
    "b=input()\n",
    "c=[]\n",
    "for i in a:\n",
    "    if i in b:\n",
    "        c.append(i)\n",
    "print(set(c))"
   ]
  },
  {
   "cell_type": "code",
   "execution_count": 15,
   "id": "9102141f",
   "metadata": {},
   "outputs": [
    {
     "name": "stdout",
     "output_type": "stream",
     "text": [
      "malayalam\n",
      "palindrome\n"
     ]
    }
   ],
   "source": [
    "#15.Write a program to check whether given string is palindrome or not.\n",
    "a=input()\n",
    "if a[::-1]==a:\n",
    "    print('palindrome')\n",
    "else:\n",
    "    print('not a palindrome')"
   ]
  },
  {
   "cell_type": "code",
   "execution_count": 18,
   "id": "aa8e4b31",
   "metadata": {},
   "outputs": [
    {
     "name": "stdout",
     "output_type": "stream",
     "text": [
      "Select the number of values in list: 6\n",
      "Give 6 numbers\n",
      "6\n",
      "343\n",
      "52\n",
      "6\n",
      "343\n",
      "66\n",
      "[6, 343]\n"
     ]
    }
   ],
   "source": [
    "#16. Write a program to count total number of duplicate elements from below array\n",
    "\n",
    "num=int(input(\"Select the number of values in list: \"))\n",
    "lis=[]\n",
    "print('Give {} numbers'.format(num))\n",
    "for i in range (0,num):\n",
    "    val=int(input())\n",
    "    lis.append(val)\n",
    "s=set(lis)\n",
    "c=[]\n",
    "for i in s:\n",
    "    if lis.count(i)>1:\n",
    "        c.append(i)\n",
    "print(c)"
   ]
  },
  {
   "cell_type": "code",
   "execution_count": 21,
   "id": "054de746",
   "metadata": {},
   "outputs": [
    {
     "name": "stdout",
     "output_type": "stream",
     "text": [
      "Select the number of values in list: 6\n",
      "Give 6 numbers\n",
      "342\n",
      "30\n",
      "4590\n",
      "432\n",
      "230\n",
      "32450\n",
      "4\n"
     ]
    }
   ],
   "source": [
    "#17.Write a program to find total number of elements that\n",
    "#   are exactly divisible by 10 from below array\n",
    "num=int(input(\"Select the number of values in list: \"))\n",
    "lis=[]\n",
    "print('Give {} numbers'.format(num))\n",
    "for i in range (0,num):\n",
    "    val=int(input())\n",
    "    lis.append(val)\n",
    "c=[]\n",
    "for i in lis:\n",
    "    if i%10==0:\n",
    "        c.append(i)\n",
    "print('number of values: ',len(c))\n"
   ]
  },
  {
   "cell_type": "markdown",
   "id": "c6b1359e",
   "metadata": {},
   "source": [
    "### Suppose we have a list of integers >>> numbers = [1, 2, 3, 4, 5, 6]"
   ]
  },
  {
   "cell_type": "code",
   "execution_count": 19,
   "id": "7b57511a",
   "metadata": {},
   "outputs": [
    {
     "name": "stdout",
     "output_type": "stream",
     "text": [
      "[6, 7, 8, 9, 10, 11]\n"
     ]
    }
   ],
   "source": [
    "#18.What do we need to do add 5 to each number?\n",
    "int_val=[1,2,3,4,5,6]\n",
    "a=[]\n",
    "for i in int_val:\n",
    "    b=i+5\n",
    "    a.append(b)\n",
    "print(a)"
   ]
  },
  {
   "cell_type": "code",
   "execution_count": 20,
   "id": "86cd4218",
   "metadata": {},
   "outputs": [
    {
     "name": "stdout",
     "output_type": "stream",
     "text": [
      "[8, 9, 10, 11]\n"
     ]
    }
   ],
   "source": [
    "#19.What if we want to add 5 to only the second to the fifth number?\n",
    "c=[]\n",
    "for i in int_val[2:6]:\n",
    "    b=i+5\n",
    "    c.append(b)\n",
    "print(c)"
   ]
  },
  {
   "cell_type": "code",
   "execution_count": 21,
   "id": "469eb65a",
   "metadata": {},
   "outputs": [
    {
     "name": "stdout",
     "output_type": "stream",
     "text": [
      "[6, 8, 10]\n"
     ]
    }
   ],
   "source": [
    "#20.What if we want to add 5 to numbers with an even-numbered offsets?\n",
    "d=[]\n",
    "for i in int_val[::2]:\n",
    "    b=i+5\n",
    "    d.append(b)\n",
    "print(d)"
   ]
  },
  {
   "cell_type": "code",
   "execution_count": 30,
   "id": "df7d3c01",
   "metadata": {},
   "outputs": [
    {
     "name": "stdout",
     "output_type": "stream",
     "text": [
      "Python\n",
      "is\n",
      "a\n",
      "great\n",
      "text\n",
      "processing\n",
      "language\n"
     ]
    }
   ],
   "source": [
    "#21.How do we take the sentence “Python is a great text processing language”  and print one word on each line?\n",
    "\n",
    "a='Python is a great text processing language'\n",
    "c=a.split(' ')\n",
    "for i in c:\n",
    "    print(i)"
   ]
  },
  {
   "cell_type": "code",
   "execution_count": null,
   "id": "f280f9e9",
   "metadata": {},
   "outputs": [],
   "source": []
  },
  {
   "cell_type": "code",
   "execution_count": null,
   "id": "f28cd6bf",
   "metadata": {},
   "outputs": [],
   "source": []
  }
 ],
 "metadata": {
  "kernelspec": {
   "display_name": "Python 3 (ipykernel)",
   "language": "python",
   "name": "python3"
  },
  "language_info": {
   "codemirror_mode": {
    "name": "ipython",
    "version": 3
   },
   "file_extension": ".py",
   "mimetype": "text/x-python",
   "name": "python",
   "nbconvert_exporter": "python",
   "pygments_lexer": "ipython3",
   "version": "3.9.12"
  }
 },
 "nbformat": 4,
 "nbformat_minor": 5
}
