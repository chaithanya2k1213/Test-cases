{
 "cells": [
  {
   "cell_type": "code",
   "execution_count": 1,
   "id": "d5ff92d6",
   "metadata": {},
   "outputs": [
    {
     "data": {
      "text/plain": [
       "'\\n1.Python is a high level programming language.\\n2.\\n'"
      ]
     },
     "execution_count": 1,
     "metadata": {},
     "output_type": "execute_result"
    }
   ],
   "source": [
    "#1 What is python, what are the benefits of using python ?\n",
    "'''\n",
    "1.Python is a high level programming language.\n",
    "2.\n",
    "'''"
   ]
  },
  {
   "cell_type": "code",
   "execution_count": null,
   "id": "4fab0ee4",
   "metadata": {},
   "outputs": [],
   "source": [
    "#3.Difference's Between (List / Tuple / Dict ) & there Properties ?\n",
    "'''\n",
    "list: List is a collection of elements. It is mutuable. \n",
    "      The index of list starts from 0. It is indicated by [].\n",
    "Tuple:Tuple is a collection of elements. It is immutable.\n",
    "      The index of tuple starts from 0. It is indicated by().\n",
    "Dict: Dictionary is a colloection of KEYS and VALUES. It is mutable.\n",
    "      By using key we can find the particular key's value or we can do the some by using values.\n",
    "      It is indicated by {}.\n",
    "'''"
   ]
  },
  {
   "cell_type": "code",
   "execution_count": null,
   "id": "33fa9f95",
   "metadata": {},
   "outputs": [],
   "source": [
    "#4.In Python what is slicing ?\n",
    "'''\n",
    "Slicing will helps in slicing the particular values in the string or in a list,tupple,sets.\n",
    "Slicing is indicated by: var[a:b:c]\n",
    "here var is variable\n",
    "     a indicates the starting value.\n",
    "     b indicates the ending value.\n",
    "     c indicates for the number of values to skip.\n",
    "'''"
   ]
  },
  {
   "cell_type": "code",
   "execution_count": 13,
   "id": "f97cd0a3",
   "metadata": {},
   "outputs": [
    {
     "data": {
      "text/plain": [
       "'hany'"
      ]
     },
     "execution_count": 13,
     "metadata": {},
     "output_type": "execute_result"
    }
   ],
   "source": [
    "#7.What is negative indexing in python With Example ?\n",
    "'''\n",
    "Negative indexing will takes the value from backward.\n",
    "'''\n",
    "a='Chaithanya'\n",
    "a[-5:-1]"
   ]
  },
  {
   "cell_type": "code",
   "execution_count": null,
   "id": "43943067",
   "metadata": {},
   "outputs": [],
   "source": [
    "#11\n",
    "a=int(input(\"Select the number of values in list: \"))\n",
    "b=[]\n",
    "print('Give {} colors'.format(a))\n",
    "for i in range (0,a):\n",
    "    c=input('')\n",
    "    b.append(c)\n",
    "e=[]\n",
    "for i in b:\n",
    "    d=b.count(i)\n",
    "    if d==2:\n",
    "        e.append(i)\n",
    "print(e)  \n",
    "print('The default values are :',set(e))"
   ]
  },
  {
   "cell_type": "code",
   "execution_count": null,
   "id": "02809bdd",
   "metadata": {},
   "outputs": [],
   "source": [
    "#12\n",
    "num=int(input(\"Select the number of values in list: \"))\n",
    "lis=[]\n",
    "print('Give {} numbers'.format(num))\n",
    "for i in range (0,num):\n",
    "    val=input('')\n",
    "    lis.append(val)\n",
    "print(lis)\n",
    "print('maximum value is: ',max(lis))"
   ]
  },
  {
   "cell_type": "code",
   "execution_count": 7,
   "id": "4bc4edf2",
   "metadata": {},
   "outputs": [
    {
     "name": "stdout",
     "output_type": "stream",
     "text": [
      "eCHAITHANYA\n",
      "5\n"
     ]
    }
   ],
   "source": [
    "#13\n",
    "a=input()\n",
    "b=a.count('a')\n",
    "c=a.count('e')\n",
    "d=a.count('i')\n",
    "e=a.count('o')\n",
    "f=a.count('u')\n",
    "g=a.count('A')\n",
    "h=a.count('E')\n",
    "i=a.count('I')\n",
    "j=a.count('O')\n",
    "k=a.count('U')\n",
    "print(b+c+d+e+f+g+h+i+j+k)"
   ]
  },
  {
   "cell_type": "code",
   "execution_count": 12,
   "id": "c16833f7",
   "metadata": {},
   "outputs": [
    {
     "name": "stdout",
     "output_type": "stream",
     "text": [
      "smash\n",
      "flash\n",
      "{'a', 's', 'h'}\n"
     ]
    }
   ],
   "source": [
    "#14\n",
    "a=input()\n",
    "b=input()\n",
    "c=[]\n",
    "for i in a:\n",
    "    if i in b:\n",
    "        c.append(i)\n",
    "print(set(c))"
   ]
  },
  {
   "cell_type": "code",
   "execution_count": 15,
   "id": "9102141f",
   "metadata": {},
   "outputs": [
    {
     "name": "stdout",
     "output_type": "stream",
     "text": [
      "malayalam\n",
      "palindrome\n"
     ]
    }
   ],
   "source": [
    "#15\n",
    "a=input()\n",
    "if a[::-1]==a:\n",
    "    print('palindrome')\n",
    "else:\n",
    "    print('not a palindrome')"
   ]
  },
  {
   "cell_type": "code",
   "execution_count": 18,
   "id": "aa8e4b31",
   "metadata": {},
   "outputs": [
    {
     "name": "stdout",
     "output_type": "stream",
     "text": [
      "Select the number of values in list: 6\n",
      "Give 6 numbers\n",
      "6\n",
      "343\n",
      "52\n",
      "6\n",
      "343\n",
      "66\n",
      "[6, 343]\n"
     ]
    }
   ],
   "source": [
    "#16\n",
    "num=int(input(\"Select the number of values in list: \"))\n",
    "lis=[]\n",
    "print('Give {} numbers'.format(num))\n",
    "for i in range (0,num):\n",
    "    val=int(input())\n",
    "    lis.append(val)\n",
    "s=set(lis)\n",
    "c=[]\n",
    "for i in s:\n",
    "    if lis.count(i)>1:\n",
    "        c.append(i)\n",
    "print(c)"
   ]
  },
  {
   "cell_type": "code",
   "execution_count": 21,
   "id": "054de746",
   "metadata": {},
   "outputs": [
    {
     "name": "stdout",
     "output_type": "stream",
     "text": [
      "Select the number of values in list: 6\n",
      "Give 6 numbers\n",
      "342\n",
      "30\n",
      "4590\n",
      "432\n",
      "230\n",
      "32450\n",
      "4\n"
     ]
    }
   ],
   "source": [
    "#17\n",
    "num=int(input(\"Select the number of values in list: \"))\n",
    "lis=[]\n",
    "print('Give {} numbers'.format(num))\n",
    "for i in range (0,num):\n",
    "    val=int(input())\n",
    "    lis.append(val)\n",
    "c=[]\n",
    "for i in lis:\n",
    "    if i%10==0:\n",
    "        c.append(i)\n",
    "print('number of values: ',len(c))\n"
   ]
  },
  {
   "cell_type": "code",
   "execution_count": 22,
   "id": "cc48192d",
   "metadata": {},
   "outputs": [],
   "source": [
    "int_val=[1,2,3,4,5,6]\n"
   ]
  },
  {
   "cell_type": "code",
   "execution_count": 23,
   "id": "7b57511a",
   "metadata": {},
   "outputs": [
    {
     "name": "stdout",
     "output_type": "stream",
     "text": [
      "[6, 7, 8, 9, 10, 11]\n"
     ]
    }
   ],
   "source": [
    "#18\n",
    "a=[]\n",
    "for i in int_val:\n",
    "    b=i+5\n",
    "    a.append(b)\n",
    "print(a)"
   ]
  },
  {
   "cell_type": "code",
   "execution_count": 25,
   "id": "86cd4218",
   "metadata": {},
   "outputs": [
    {
     "name": "stdout",
     "output_type": "stream",
     "text": [
      "[7, 8, 9, 10]\n"
     ]
    }
   ],
   "source": [
    "#19\n",
    "c=[]\n",
    "for i in int_val[2:6]:\n",
    "    b=i+5\n",
    "    c.append(b)\n",
    "print(c)"
   ]
  },
  {
   "cell_type": "code",
   "execution_count": 26,
   "id": "469eb65a",
   "metadata": {},
   "outputs": [
    {
     "name": "stdout",
     "output_type": "stream",
     "text": [
      "[6, 8, 10]\n"
     ]
    }
   ],
   "source": [
    "#20\n",
    "d=[]\n",
    "for i in int_val[::2]:\n",
    "    b=i+5\n",
    "    d.append(b)\n",
    "print(d)"
   ]
  },
  {
   "cell_type": "code",
   "execution_count": 30,
   "id": "df7d3c01",
   "metadata": {},
   "outputs": [
    {
     "name": "stdout",
     "output_type": "stream",
     "text": [
      "Python\n",
      "is\n",
      "a\n",
      "great\n",
      "text\n",
      "processing\n",
      "language\n"
     ]
    }
   ],
   "source": [
    "#21\n",
    "a='Python is a great text processing language'\n",
    "c=a.split(' ')\n",
    "for i in c:\n",
    "    print(i)"
   ]
  },
  {
   "cell_type": "code",
   "execution_count": null,
   "id": "f280f9e9",
   "metadata": {},
   "outputs": [],
   "source": []
  },
  {
   "cell_type": "code",
   "execution_count": null,
   "id": "f28cd6bf",
   "metadata": {},
   "outputs": [],
   "source": []
  }
 ],
 "metadata": {
  "kernelspec": {
   "display_name": "Python 3 (ipykernel)",
   "language": "python",
   "name": "python3"
  },
  "language_info": {
   "codemirror_mode": {
    "name": "ipython",
    "version": 3
   },
   "file_extension": ".py",
   "mimetype": "text/x-python",
   "name": "python",
   "nbconvert_exporter": "python",
   "pygments_lexer": "ipython3",
   "version": "3.9.12"
  }
 },
 "nbformat": 4,
 "nbformat_minor": 5
}
