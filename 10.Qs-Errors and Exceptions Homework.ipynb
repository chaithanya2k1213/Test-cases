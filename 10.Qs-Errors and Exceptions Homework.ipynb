{
 "cells": [
  {
   "cell_type": "markdown",
   "id": "ba1b27e1",
   "metadata": {},
   "source": [
    "## Errors and Exceptions Homework"
   ]
  },
  {
   "cell_type": "markdown",
   "id": "6e08890e",
   "metadata": {},
   "source": [
    "### Problem 1\n",
    "Handle the exception thrown by the code below by using try and except blocks.\n",
    "\n",
    "for i in ['a','b','c']:\n",
    "    \n",
    "    print(i**2)"
   ]
  },
  {
   "cell_type": "code",
   "execution_count": 1,
   "id": "d8151d62",
   "metadata": {},
   "outputs": [
    {
     "name": "stdout",
     "output_type": "stream",
     "text": [
      "String values cannot be squared\n",
      "String values cannot be squared\n",
      "String values cannot be squared\n"
     ]
    }
   ],
   "source": [
    "for i in ['a','b','c']:\n",
    "    try:\n",
    "        d=i**2\n",
    "    except TypeError:\n",
    "        print('String values cannot be squared')\n",
    "        exit(0)\n"
   ]
  },
  {
   "cell_type": "markdown",
   "id": "cd3980ce",
   "metadata": {},
   "source": [
    "### Problem 2\n",
    "Handle the exception thrown by the code below by using try and except blocks. Then use a finally block to print 'All Done.'\n",
    "\n",
    "x = 5\n",
    "\n",
    "y = 0\n",
    "\n",
    "z = x/y"
   ]
  },
  {
   "cell_type": "code",
   "execution_count": 2,
   "id": "38858baf",
   "metadata": {},
   "outputs": [
    {
     "name": "stdout",
     "output_type": "stream",
     "text": [
      "Divisior should be > 0\n",
      "All Done.\n"
     ]
    }
   ],
   "source": [
    "x = 5\n",
    "y = 0\n",
    "try:\n",
    "    z=x/y\n",
    "    print(z)\n",
    "except ZeroDivisionError:\n",
    "    print('Divisior should be > 0')\n",
    "    exit(0)\n",
    "finally:\n",
    "    print('All Done.')\n"
   ]
  },
  {
   "cell_type": "markdown",
   "id": "b4cda812",
   "metadata": {},
   "source": [
    "### Problem 3\n",
    "Write a function that asks for an integer and prints the square of it. Use a while loop with a try, except, else block to account for incorrect inputs.\n",
    "\n",
    "def ask():\n",
    "\n",
    "    pass\n",
    "    \n",
    "ask()\n",
    "\n",
    "---------------------------------------------------\n",
    "\n",
    "Input an integer: null\n",
    "\n",
    "An error occurred! Please try again!\n",
    "\n",
    "Input an integer: 2\n",
    "\n",
    "Thank you, your number squared is:  4"
   ]
  },
  {
   "cell_type": "code",
   "execution_count": 17,
   "id": "0cbe1ab4",
   "metadata": {},
   "outputs": [],
   "source": [
    "def ask():\n",
    "    while True:\n",
    "        \n",
    "        try:\n",
    "            a=int(input('Input an Integer: '))\n",
    "            b=a**2\n",
    "            print('Thank you, your number squared is: ',b)\n",
    "            break\n",
    "        except ValueError:\n",
    "            print('An error occurred! Please try again!')\n",
    "\n",
    "        else:\n",
    "            print('incorrect input')\n",
    "\n",
    "    pass\n",
    "        \n",
    "        "
   ]
  },
  {
   "cell_type": "code",
   "execution_count": 19,
   "id": "ef910300",
   "metadata": {},
   "outputs": [
    {
     "name": "stdout",
     "output_type": "stream",
     "text": [
      "Input an Integer: null\n",
      "An error occurred! Please try again!\n",
      "Input an Integer: 2\n",
      "Thank you, your number squared is:  4\n"
     ]
    }
   ],
   "source": [
    "ask()"
   ]
  }
 ],
 "metadata": {
  "kernelspec": {
   "display_name": "Python 3 (ipykernel)",
   "language": "python",
   "name": "python3"
  },
  "language_info": {
   "codemirror_mode": {
    "name": "ipython",
    "version": 3
   },
   "file_extension": ".py",
   "mimetype": "text/x-python",
   "name": "python",
   "nbconvert_exporter": "python",
   "pygments_lexer": "ipython3",
   "version": "3.9.12"
  }
 },
 "nbformat": 4,
 "nbformat_minor": 5
}
