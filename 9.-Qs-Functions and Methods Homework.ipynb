{
 "cells": [
  {
   "cell_type": "markdown",
   "id": "86b5c8f1",
   "metadata": {},
   "source": [
    "#### 1.____ Write a function that computes the volume of a sphere given its radius. "
   ]
  },
  {
   "cell_type": "code",
   "execution_count": 67,
   "id": "137f3546",
   "metadata": {},
   "outputs": [],
   "source": [
    "\n",
    "def vol(rad):\n",
    "    volume=(4/3)*3.14*rad**3\n",
    "    print(volume)\n",
    "    pass"
   ]
  },
  {
   "cell_type": "code",
   "execution_count": 68,
   "id": "4ab65d3e",
   "metadata": {},
   "outputs": [
    {
     "name": "stdout",
     "output_type": "stream",
     "text": [
      "33.49333333333333\n"
     ]
    }
   ],
   "source": [
    "vol(2)"
   ]
  },
  {
   "cell_type": "markdown",
   "id": "484d1628",
   "metadata": {},
   "source": [
    "#### 2.Write a function that checks whether a number is in a given range (inclusive of high and low)"
   ]
  },
  {
   "cell_type": "code",
   "execution_count": 3,
   "id": "d14c4dd4",
   "metadata": {},
   "outputs": [],
   "source": [
    "def ran_check(num,low,high):\n",
    "    if num in range(low,high):\n",
    "        print('{} is in the range between {} and {}'.format(num,low,high))\n",
    "    pass\n"
   ]
  },
  {
   "cell_type": "code",
   "execution_count": 4,
   "id": "b7ce8c4e",
   "metadata": {},
   "outputs": [
    {
     "name": "stdout",
     "output_type": "stream",
     "text": [
      "5 is in the range between 2 and 7\n"
     ]
    }
   ],
   "source": [
    "ran_check(5,2,7)"
   ]
  },
  {
   "cell_type": "markdown",
   "id": "728298f0",
   "metadata": {},
   "source": [
    "#### 3.If you only wanted to return a boolean:"
   ]
  },
  {
   "cell_type": "code",
   "execution_count": 5,
   "id": "3fed1bff",
   "metadata": {},
   "outputs": [],
   "source": [
    "def ran_bool(num,low,high):\n",
    "    if num in range(low,high):\n",
    "        print(bool(1))\n",
    "    else:\n",
    "        print(bool(0))\n",
    "    pass"
   ]
  },
  {
   "cell_type": "code",
   "execution_count": 6,
   "id": "4b289bae",
   "metadata": {},
   "outputs": [
    {
     "name": "stdout",
     "output_type": "stream",
     "text": [
      "True\n"
     ]
    }
   ],
   "source": [
    "ran_bool(3,1,10)"
   ]
  },
  {
   "cell_type": "markdown",
   "id": "2c59a786",
   "metadata": {},
   "source": [
    "#### 4.Write a Python function that accepts a string and calculates the number of upper case letters and lower case letters.\n",
    "Sample String : 'Hello Mr. Rogers, how are you this fine Tuesday?'\n",
    "\n",
    "Expected Output : \n",
    "\n",
    "No. of Upper case characters : 4\n",
    "\n",
    "No. of Lower case Characters : 33"
   ]
  },
  {
   "cell_type": "code",
   "execution_count": 7,
   "id": "477b113e",
   "metadata": {},
   "outputs": [],
   "source": [
    "def up_low(s):\n",
    "    num_Upper=0\n",
    "    num_Lower=0\n",
    "    for i in s:\n",
    "        if i.isupper():\n",
    "            num_Upper=num_Upper+1\n",
    "        elif i.islower():\n",
    "            num_Lower=num_Lower+1\n",
    "    print('No. of Upper case characters : ',num_Upper)\n",
    "    print('No. of Lower case Characters : ',num_Lower)\n",
    "    pass"
   ]
  },
  {
   "cell_type": "code",
   "execution_count": 8,
   "id": "4b987266",
   "metadata": {},
   "outputs": [
    {
     "name": "stdout",
     "output_type": "stream",
     "text": [
      "No. of Upper case characters :  4\n",
      "No. of Lower case Characters :  33\n"
     ]
    }
   ],
   "source": [
    "up_low('Hello Mr. Rogers, how are you this fine Tuesday?')"
   ]
  },
  {
   "cell_type": "markdown",
   "id": "0be65374",
   "metadata": {},
   "source": [
    "#### 5.\n",
    "Write a Python function that takes a list and returns a new list with unique elements of the first list.\n",
    "\n",
    "Sample List : [1,1,1,1,2,2,3,3,3,3,4,5]\n",
    "\n",
    "Unique List : [1, 2, 3, 4, 5]"
   ]
  },
  {
   "cell_type": "code",
   "execution_count": 9,
   "id": "3bd488f2",
   "metadata": {},
   "outputs": [],
   "source": [
    "def unique_list(lst):\n",
    "    lst=set(lst)\n",
    "    lst=list(lst)\n",
    "    print(lst)\n",
    "    pass"
   ]
  },
  {
   "cell_type": "code",
   "execution_count": 10,
   "id": "250b9253",
   "metadata": {},
   "outputs": [
    {
     "name": "stdout",
     "output_type": "stream",
     "text": [
      "[1, 2, 3, 4, 5]\n"
     ]
    }
   ],
   "source": [
    "unique_list([1,1,1,1,2,2,3,3,3,3,4,5])"
   ]
  },
  {
   "cell_type": "markdown",
   "id": "7a1656c1",
   "metadata": {},
   "source": [
    "#### 6.Write a Python function to multiply all the numbers in a list."
   ]
  },
  {
   "cell_type": "code",
   "execution_count": 11,
   "id": "83ef61f0",
   "metadata": {},
   "outputs": [],
   "source": [
    "def multiply(numbers):  \n",
    "    a=1\n",
    "    for i in numbers:\n",
    "        a=a*i\n",
    "    print(a)\n",
    "    pass"
   ]
  },
  {
   "cell_type": "code",
   "execution_count": 12,
   "id": "2ade95e9",
   "metadata": {},
   "outputs": [
    {
     "name": "stdout",
     "output_type": "stream",
     "text": [
      "-24\n"
     ]
    }
   ],
   "source": [
    "multiply([1,2,3,-4])"
   ]
  },
  {
   "cell_type": "markdown",
   "id": "8e16bf9e",
   "metadata": {},
   "source": [
    "#### 7.Write a Python function that checks whether a word or phrase is palindrome or not."
   ]
  },
  {
   "cell_type": "code",
   "execution_count": 13,
   "id": "3581000d",
   "metadata": {},
   "outputs": [],
   "source": [
    "def palindrome(s):\n",
    "    print(s==s[::-1])\n",
    "    pass"
   ]
  },
  {
   "cell_type": "code",
   "execution_count": 14,
   "id": "eb6ebe49",
   "metadata": {},
   "outputs": [
    {
     "name": "stdout",
     "output_type": "stream",
     "text": [
      "True\n"
     ]
    }
   ],
   "source": [
    "palindrome('helleh')"
   ]
  },
  {
   "cell_type": "markdown",
   "id": "b868bc2c",
   "metadata": {},
   "source": [
    "#### 8.Write a Python function to check whether a string is pangram or not. (Assume the string passed in does not have any punctuation)"
   ]
  },
  {
   "cell_type": "code",
   "execution_count": 58,
   "id": "9131a50d",
   "metadata": {},
   "outputs": [],
   "source": [
    "import string\n",
    "\n",
    "def ispangram(str1, alphabet=string.ascii_lowercase):\n",
    "    a=[]\n",
    "    for i in alphabet:\n",
    "        if i not in str1:\n",
    "            a.append('False')\n",
    "            \n",
    "        else:\n",
    "            a.append(i)\n",
    "\n",
    "    if 'False' in a:\n",
    "        print('False')\n",
    "    else:\n",
    "        print('True')\n"
   ]
  },
  {
   "cell_type": "code",
   "execution_count": 63,
   "id": "1c4fa4a3",
   "metadata": {},
   "outputs": [
    {
     "name": "stdout",
     "output_type": "stream",
     "text": [
      "True\n"
     ]
    }
   ],
   "source": [
    "ispangram(\"The quick brown fox jumps over the lazy dog\")"
   ]
  },
  {
   "cell_type": "code",
   "execution_count": null,
   "id": "145f0513",
   "metadata": {},
   "outputs": [],
   "source": []
  }
 ],
 "metadata": {
  "kernelspec": {
   "display_name": "Python 3 (ipykernel)",
   "language": "python",
   "name": "python3"
  },
  "language_info": {
   "codemirror_mode": {
    "name": "ipython",
    "version": 3
   },
   "file_extension": ".py",
   "mimetype": "text/x-python",
   "name": "python",
   "nbconvert_exporter": "python",
   "pygments_lexer": "ipython3",
   "version": "3.9.12"
  }
 },
 "nbformat": 4,
 "nbformat_minor": 5
}
