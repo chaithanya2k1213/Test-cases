{
 "cells": [
  {
   "cell_type": "code",
   "execution_count": 1,
   "id": "47a163af",
   "metadata": {},
   "outputs": [
    {
     "name": "stdout",
     "output_type": "stream",
     "text": [
      "****************************************************************\n",
      "Select number for choice of Operation : \n",
      " 1.Addition \n",
      " 2.Subraction \n",
      " 3.Multiplication \n",
      " 4.Division \n",
      " Enter choice 1/2/3/4 : 4\n",
      "Enter first number : 88\n",
      "Enter second number : 11\n",
      "88 / 11 =  8.0\n",
      "Do you want to continue calculation? (yes/no) :yes\n",
      "****************************************************************\n",
      "Select number for choice of Operation : \n",
      " 1.Addition \n",
      " 2.Subraction \n",
      " 3.Multiplication \n",
      " 4.Division \n",
      " Enter choice 1/2/3/4 : 2\n",
      "Enter first number : 81\n",
      "Enter second number : 4324\n",
      "81 - 4324 =  -4243\n",
      "Do you want to continue calculation? (yes/no) :no\n",
      "Calcualtion is ended.\n"
     ]
    }
   ],
   "source": [
    "def add(a,b):\n",
    "    return a+b\n",
    "\n",
    "def sub(a,b):\n",
    "    return a-b\n",
    "\n",
    "def mul(a,b):\n",
    "    return a*b\n",
    "\n",
    "def div(a,b):\n",
    "    return a/b\n",
    "\n",
    "next_cal='yes'\n",
    "\n",
    "while next_cal=='yes':\n",
    "    print('*'*4**3)\n",
    "    choose = input('Select number for choice of Operation : \\n 1.Addition \\n 2.Subraction \\n 3.Multiplication \\n 4.Division \\n Enter choice 1/2/3/4 : ')\n",
    "\n",
    "    \n",
    "    if choose in ('1','2','3','4') :\n",
    "        a = int(input('Enter first number : '))\n",
    "        b = int(input('Enter second number : '))\n",
    "\n",
    "        if choose=='1':\n",
    "            ad=add(a,b)\n",
    "            print(a,'+',b,'= ', ad)\n",
    "        elif choose=='2':\n",
    "            su=sub(a,b)\n",
    "            print(a,'-',b,'= ', su)\n",
    "        elif choose=='3':\n",
    "            mu=mul(a,b)\n",
    "            print(a,'*',b,'= ', mu)\n",
    "        elif choose=='4':\n",
    "            di=div(a,b)\n",
    "            print(a,'/',b,'= ', di)\n",
    "    else:\n",
    "        print('Select from the above options.')\n",
    "        \n",
    "    next_cal = input('Do you want to continue calculation? (yes/no) :')\n",
    "    if next_cal == 'no':\n",
    "        print('Calcualtion is ended.')"
   ]
  },
  {
   "cell_type": "code",
   "execution_count": null,
   "id": "1dad79d8",
   "metadata": {},
   "outputs": [],
   "source": []
  },
  {
   "cell_type": "code",
   "execution_count": null,
   "id": "638314ff",
   "metadata": {},
   "outputs": [],
   "source": []
  }
 ],
 "metadata": {
  "kernelspec": {
   "display_name": "Python 3 (ipykernel)",
   "language": "python",
   "name": "python3"
  },
  "language_info": {
   "codemirror_mode": {
    "name": "ipython",
    "version": 3
   },
   "file_extension": ".py",
   "mimetype": "text/x-python",
   "name": "python",
   "nbconvert_exporter": "python",
   "pygments_lexer": "ipython3",
   "version": "3.9.12"
  }
 },
 "nbformat": 4,
 "nbformat_minor": 5
}
