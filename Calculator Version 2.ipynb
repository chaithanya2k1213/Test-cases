{
 "cells": [
  {
   "cell_type": "code",
   "execution_count": null,
   "id": "ef963d03",
   "metadata": {},
   "outputs": [
    {
     "name": "stdout",
     "output_type": "stream",
     "text": [
      "****************************************************************\n",
      "Select number for choice of Operation : \n",
      " 1.Addition \n",
      " 2.Subraction \n",
      " 3.Multiplication \n",
      " 4.Division\n",
      " 5.Modules\n",
      " 6.Square root\n",
      " 7.Sin value\n",
      " 8.Cos value \n",
      " Enter choice 1/2/3/4/5/6/7/8 : 6\n",
      "Enter the value: 64\n",
      "64 **(1/2)=  8.0\n",
      "Do you want to continue calculation? (yes/no) :yes\n",
      "****************************************************************\n",
      "Select number for choice of Operation : \n",
      " 1.Addition \n",
      " 2.Subraction \n",
      " 3.Multiplication \n",
      " 4.Division\n",
      " 5.Modules\n",
      " 6.Square root\n",
      " 7.Sin value\n",
      " 8.Cos value \n",
      " Enter choice 1/2/3/4/5/6/7/8 : 8\n"
     ]
    }
   ],
   "source": [
    "import math\n",
    "\n",
    "def add(a,b):\n",
    "    return a+b\n",
    "\n",
    "def sub(a,b):\n",
    "    return a-b\n",
    "\n",
    "def mul(a,b):\n",
    "    return a*b\n",
    "\n",
    "def div(a,b):\n",
    "    return a/b\n",
    "\n",
    "def mod(a,b):\n",
    "    return a%b\n",
    "\n",
    "def square_root(a):\n",
    "    return math.sqrt(a)\n",
    "\n",
    "def sine(a):\n",
    "    return math.sin(math.radians(a))\n",
    "\n",
    "def cos(a):\n",
    "    return math.cos(math.radians(a))\n",
    "    \n",
    "\n",
    "\n",
    "next_cal='yes'\n",
    "\n",
    "while next_cal=='yes':\n",
    "    print('*'*4**3)\n",
    "    choose = input('Select number for choice of Operation : \\n 1.Addition \\n 2.Subraction \\n 3.Multiplication \\n 4.Division\\n 5.Modules\\n 6.Square root\\n 7.Sin value\\n 8.Cos value \\n Enter choice 1/2/3/4/5/6/7/8 : ')\n",
    "\n",
    "    \n",
    "    if choose in ('1','2','3','4','5') :\n",
    "        a = int(input('Enter first number : '))\n",
    "        b = int(input('Enter second number : '))\n",
    "\n",
    "        if choose=='1':\n",
    "            ad=add(a,b)\n",
    "            print(a,'+',b,'= ', ad)\n",
    "        elif choose=='2':\n",
    "            su=sub(a,b)\n",
    "            print(a,'-',b,'= ', su)\n",
    "        elif choose=='3':\n",
    "            mu=mul(a,b)\n",
    "            print(a,'*',b,'= ', mu)\n",
    "        elif choose=='4':\n",
    "            di=div(a,b)\n",
    "            print(a,'/',b,'= ', di)\n",
    "        elif choose=='5':\n",
    "            mo=mod(a,b)\n",
    "            print(a,'%',b,'= ',mo)\n",
    "    elif choose in('6','7','8'):\n",
    "        a=int(input('Enter the value: '))\n",
    "        if choose=='6':\n",
    "            sqrt=square_root(a)\n",
    "            print(a,'**(1/2)= ',sqrt)\n",
    "        elif choose=='7':\n",
    "            sin=sine(a)\n",
    "            print('sin',a,'= ',sin)\n",
    "        elif choose=='8':\n",
    "            co=cos(a)\n",
    "            print('cos',a,'= ',co)\n",
    "    else:\n",
    "        print('Select from the above options.')\n",
    "        \n",
    "    next_cal = input('Do you want to continue calculation? (yes/no) :')\n",
    "    if next_cal == 'no':\n",
    "        print('Calcualtion is ended.')"
   ]
  },
  {
   "cell_type": "code",
   "execution_count": null,
   "id": "570a2f35",
   "metadata": {},
   "outputs": [],
   "source": [
    "import math\n",
    "c=math.sqrt(25)\n",
    "c"
   ]
  },
  {
   "cell_type": "code",
   "execution_count": null,
   "id": "58b8076b",
   "metadata": {},
   "outputs": [],
   "source": [
    "f=\n",
    "f\n",
    "\n"
   ]
  },
  {
   "cell_type": "code",
   "execution_count": null,
   "id": "181e90e6",
   "metadata": {},
   "outputs": [],
   "source": [
    "25**(1/2)"
   ]
  },
  {
   "cell_type": "code",
   "execution_count": null,
   "id": "95d5b622",
   "metadata": {},
   "outputs": [],
   "source": []
  }
 ],
 "metadata": {
  "kernelspec": {
   "display_name": "Python 3 (ipykernel)",
   "language": "python",
   "name": "python3"
  },
  "language_info": {
   "codemirror_mode": {
    "name": "ipython",
    "version": 3
   },
   "file_extension": ".py",
   "mimetype": "text/x-python",
   "name": "python",
   "nbconvert_exporter": "python",
   "pygments_lexer": "ipython3",
   "version": "3.9.12"
  }
 },
 "nbformat": 4,
 "nbformat_minor": 5
}
