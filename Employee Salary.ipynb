{
 "cells": [
  {
   "cell_type": "markdown",
   "id": "0c1da936",
   "metadata": {},
   "source": [
    "### Employee Salary"
   ]
  },
  {
   "cell_type": "code",
   "execution_count": 37,
   "id": "366890f0",
   "metadata": {},
   "outputs": [
    {
     "name": "stdout",
     "output_type": "stream",
     "text": [
      "Tatal salary for Sheethal is 25000\n",
      "DA is 6250.0\n",
      "TZ is 2500.0\n",
      "HRA is 3750.0\n",
      "CCA is 2250.0\n",
      "LIC is 1250.0\n",
      "MA is 500.0\n",
      "Net salary for Sheethal is 16500.0\n",
      "****************************************************************\n",
      "Tatal salary for Sonu is 28000\n",
      "DA is 7000.0\n",
      "TZ is 2800.0\n",
      "HRA is 4200.0\n",
      "CCA is 2520.0\n",
      "LIC is 1400.0\n",
      "MA is 560.0\n",
      "Net salary for Sonu is 18480.0\n",
      "****************************************************************\n",
      "Tatal salary for Sandeep is 100000\n",
      "DA is 25000.0\n",
      "TZ is 10000.0\n",
      "HRA is 15000.0\n",
      "CCA is 9000.0\n",
      "LIC is 5000.0\n",
      "MA is 2000.0\n",
      "Net salary for Sandeep is 66000.0\n",
      "****************************************************************\n",
      "Tatal salary for Manoj is 65000\n",
      "DA is 16250.0\n",
      "TZ is 6500.0\n",
      "HRA is 9750.0\n",
      "CCA is 5850.0\n",
      "LIC is 3250.0\n",
      "MA is 1300.0\n",
      "Net salary for Manoj is 42900.0\n",
      "****************************************************************\n",
      "Tatal salary for Prasanna is 15000\n",
      "DA is 3750.0\n",
      "TZ is 1500.0\n",
      "HRA is 2250.0\n",
      "CCA is 1350.0\n",
      "LIC is 750.0\n",
      "MA is 300.0\n",
      "Net salary for Prasanna is 9900.0\n",
      "****************************************************************\n",
      "Tatal salary for Priyanka is 20000\n",
      "DA is 5000.0\n",
      "TZ is 2000.0\n",
      "HRA is 3000.0\n",
      "CCA is 1800.0\n",
      "LIC is 1000.0\n",
      "MA is 400.0\n",
      "Net salary for Priyanka is 13200.0\n",
      "****************************************************************\n",
      "Tatal salary for Shravanthi is 28000\n",
      "DA is 7000.0\n",
      "TZ is 2800.0\n",
      "HRA is 4200.0\n",
      "CCA is 2520.0\n",
      "LIC is 1400.0\n",
      "MA is 560.0\n",
      "Net salary for Shravanthi is 18480.0\n",
      "****************************************************************\n",
      "Tatal salary for Yamini is 19000\n",
      "DA is 4750.0\n",
      "TZ is 1900.0\n",
      "HRA is 2850.0\n",
      "CCA is 1710.0\n",
      "LIC is 950.0\n",
      "MA is 380.0\n",
      "Net salary for Yamini is 12540.0\n",
      "****************************************************************\n",
      "Tatal salary for Chaitanya is 25000\n",
      "DA is 6250.0\n",
      "TZ is 2500.0\n",
      "HRA is 3750.0\n",
      "CCA is 2250.0\n",
      "LIC is 1250.0\n",
      "MA is 500.0\n",
      "Net salary for Chaitanya is 16500.0\n",
      "****************************************************************\n",
      "Tatal salary for Leela Krishna is 26000\n",
      "DA is 6500.0\n",
      "TZ is 2600.0\n",
      "HRA is 3900.0\n",
      "CCA is 2340.0\n",
      "LIC is 1300.0\n",
      "MA is 520.0\n",
      "Net salary for Leela Krishna is 17160.0\n",
      "****************************************************************\n",
      "Tatal salary for Mahender is 60000\n",
      "DA is 15000.0\n",
      "TZ is 6000.0\n",
      "HRA is 9000.0\n",
      "CCA is 5400.0\n",
      "LIC is 3000.0\n",
      "MA is 1200.0\n",
      "Net salary for Mahender is 39600.0\n",
      "****************************************************************\n",
      "Tatal salary for Yelishetty Shankar is 100000\n",
      "DA is 25000.0\n",
      "TZ is 10000.0\n",
      "HRA is 15000.0\n",
      "CCA is 9000.0\n",
      "LIC is 5000.0\n",
      "MA is 2000.0\n",
      "Net salary for Yelishetty Shankar is 66000.0\n",
      "****************************************************************\n",
      "Tatal salary for Swapna is 23000\n",
      "DA is 5750.0\n",
      "TZ is 2300.0\n",
      "HRA is 3450.0\n",
      "CCA is 2070.0\n",
      "LIC is 1150.0\n",
      "MA is 460.0\n",
      "Net salary for Swapna is 15180.0\n",
      "****************************************************************\n",
      "Tatal salary for Nikhil is 25000\n",
      "DA is 6250.0\n",
      "TZ is 2500.0\n",
      "HRA is 3750.0\n",
      "CCA is 2250.0\n",
      "LIC is 1250.0\n",
      "MA is 500.0\n",
      "Net salary for Nikhil is 16500.0\n",
      "****************************************************************\n",
      "Tatal salary for Sai Kumar is 30000\n",
      "DA is 7500.0\n",
      "TZ is 3000.0\n",
      "HRA is 4500.0\n",
      "CCA is 2700.0\n",
      "LIC is 1500.0\n",
      "MA is 600.0\n",
      "Net salary for Sai Kumar is 19800.0\n",
      "****************************************************************\n"
     ]
    }
   ],
   "source": [
    "f=open(\"emp12.txt\",'r')\n",
    "for i in f:\n",
    "    row=i.split(',')\n",
    "    salary=int(row[5])\n",
    "    \n",
    "    print('Tatal salary for {a} is {b}'.format(a=row[1],b=str(salary)))\n",
    "    \n",
    "    DA=salary*0.25\n",
    "    print('DA is {}'.format(DA))\n",
    "    \n",
    "    TZ=salary*0.10\n",
    "    print('TZ is {}'.format(TZ))\n",
    "    \n",
    "    HRA=salary*0.15\n",
    "    print('HRA is {}'.format(HRA))\n",
    "    \n",
    "    CCA=salary*0.09\n",
    "    print('CCA is {}'.format(CCA))\n",
    "    \n",
    "    LIC=salary*0.05\n",
    "    print('LIC is {}'.format(LIC))\n",
    "    \n",
    "    MA=salary*0.02\n",
    "    print('MA is {}'.format(MA))\n",
    "    \n",
    "    Net_salary=DA+TZ+HRA+CCA+LIC+MA\n",
    "    print('Net salary for {a} is {b}'.format(a=row[1],b=str(Net_salary)))\n",
    "    print(\"*\"*4**3)\n"
   ]
  },
  {
   "cell_type": "code",
   "execution_count": 7,
   "id": "aba90b2a",
   "metadata": {},
   "outputs": [
    {
     "data": {
      "text/plain": [
       "'30000'"
      ]
     },
     "execution_count": 7,
     "metadata": {},
     "output_type": "execute_result"
    }
   ],
   "source": [
    "salary"
   ]
  },
  {
   "cell_type": "code",
   "execution_count": 8,
   "id": "bc12ad18",
   "metadata": {},
   "outputs": [
    {
     "data": {
      "text/plain": [
       "'30000'"
      ]
     },
     "execution_count": 8,
     "metadata": {},
     "output_type": "execute_result"
    }
   ],
   "source": [
    "salary"
   ]
  },
  {
   "cell_type": "code",
   "execution_count": null,
   "id": "bd06dcad",
   "metadata": {},
   "outputs": [],
   "source": []
  }
 ],
 "metadata": {
  "kernelspec": {
   "display_name": "Python 3 (ipykernel)",
   "language": "python",
   "name": "python3"
  },
  "language_info": {
   "codemirror_mode": {
    "name": "ipython",
    "version": 3
   },
   "file_extension": ".py",
   "mimetype": "text/x-python",
   "name": "python",
   "nbconvert_exporter": "python",
   "pygments_lexer": "ipython3",
   "version": "3.9.12"
  }
 },
 "nbformat": 4,
 "nbformat_minor": 5
}
