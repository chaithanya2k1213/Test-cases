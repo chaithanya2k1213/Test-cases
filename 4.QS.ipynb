{
 "cells": [
  {
   "cell_type": "markdown",
   "id": "4b62ceb9",
   "metadata": {},
   "source": [
    "#### 1.Write the program to reverse order of words ?"
   ]
  },
  {
   "cell_type": "code",
   "execution_count": 2,
   "id": "65a2531d",
   "metadata": {},
   "outputs": [
    {
     "name": "stdout",
     "output_type": "stream",
     "text": [
      "the program to reverse order of words\n"
     ]
    },
    {
     "data": {
      "text/plain": [
       "'eht margorp ot esrever redro fo sdrow'"
      ]
     },
     "execution_count": 2,
     "metadata": {},
     "output_type": "execute_result"
    }
   ],
   "source": [
    "a=input()\n",
    "b=a.split(' ')\n",
    "c=[]\n",
    "for i in b:\n",
    "    d=i[::-1]\n",
    "    c.append(d)\n",
    "e=' '.join(c)\n",
    "e"
   ]
  },
  {
   "cell_type": "markdown",
   "id": "b2a8594a",
   "metadata": {},
   "source": [
    "#### 2.\tWrite a program to print characters at odd position and even position for the given string ?"
   ]
  },
  {
   "cell_type": "code",
   "execution_count": 3,
   "id": "9b853ae7",
   "metadata": {},
   "outputs": [
    {
     "name": "stdout",
     "output_type": "stream",
     "text": [
      "chaithanya\n",
      "Even positions:  catay\n",
      "Odd positions:  hihna\n"
     ]
    }
   ],
   "source": [
    "a=input()\n",
    "print('Even positions: ',a[::2])\n",
    "print('Odd positions: ',a[1::2])"
   ]
  },
  {
   "cell_type": "code",
   "execution_count": null,
   "id": "b4d31493",
   "metadata": {},
   "outputs": [],
   "source": []
  }
 ],
 "metadata": {
  "kernelspec": {
   "display_name": "Python 3 (ipykernel)",
   "language": "python",
   "name": "python3"
  },
  "language_info": {
   "codemirror_mode": {
    "name": "ipython",
    "version": 3
   },
   "file_extension": ".py",
   "mimetype": "text/x-python",
   "name": "python",
   "nbconvert_exporter": "python",
   "pygments_lexer": "ipython3",
   "version": "3.9.12"
  }
 },
 "nbformat": 4,
 "nbformat_minor": 5
}
